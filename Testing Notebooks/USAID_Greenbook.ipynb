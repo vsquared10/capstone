{
 "cells": [
  {
   "cell_type": "code",
   "execution_count": 1,
   "metadata": {
    "collapsed": true,
    "deletable": true,
    "editable": true
   },
   "outputs": [],
   "source": [
    "reset -fs"
   ]
  },
  {
   "cell_type": "code",
   "execution_count": 2,
   "metadata": {
    "collapsed": true,
    "deletable": true,
    "editable": true
   },
   "outputs": [],
   "source": [
    "import pandas as pd"
   ]
  },
  {
   "cell_type": "code",
   "execution_count": 5,
   "metadata": {
    "collapsed": false,
    "deletable": true,
    "editable": true
   },
   "outputs": [],
   "source": [
    "USloans = pd.DataFrame.from_csv('../../US_Overseas_Loans.csv')"
   ]
  },
  {
   "cell_type": "code",
   "execution_count": 6,
   "metadata": {
    "collapsed": false,
    "deletable": true,
    "editable": true
   },
   "outputs": [
    {
     "data": {
      "text/html": [
       "<div>\n",
       "<table border=\"1\" class=\"dataframe\">\n",
       "  <thead>\n",
       "    <tr style=\"text-align: right;\">\n",
       "      <th></th>\n",
       "      <th>Recipient Country</th>\n",
       "      <th>Program Name</th>\n",
       "      <th>Unit Name</th>\n",
       "      <th>Fiscal Year</th>\n",
       "      <th>Obligations ($US)</th>\n",
       "    </tr>\n",
       "    <tr>\n",
       "      <th>Assistance Type</th>\n",
       "      <th></th>\n",
       "      <th></th>\n",
       "      <th></th>\n",
       "      <th></th>\n",
       "      <th></th>\n",
       "    </tr>\n",
       "  </thead>\n",
       "  <tbody>\n",
       "    <tr>\n",
       "      <th>Economic</th>\n",
       "      <td>Afghanistan</td>\n",
       "      <td>Child Survival and Health</td>\n",
       "      <td>Constant 2011 $US</td>\n",
       "      <td>2002.0</td>\n",
       "      <td>2641223</td>\n",
       "    </tr>\n",
       "    <tr>\n",
       "      <th>Economic</th>\n",
       "      <td>Afghanistan</td>\n",
       "      <td>Child Survival and Health</td>\n",
       "      <td>Constant 2011 $US</td>\n",
       "      <td>2003.0</td>\n",
       "      <td>57720808</td>\n",
       "    </tr>\n",
       "    <tr>\n",
       "      <th>Economic</th>\n",
       "      <td>Afghanistan</td>\n",
       "      <td>Child Survival and Health</td>\n",
       "      <td>Constant 2011 $US</td>\n",
       "      <td>2004.0</td>\n",
       "      <td>41096541</td>\n",
       "    </tr>\n",
       "    <tr>\n",
       "      <th>Economic</th>\n",
       "      <td>Afghanistan</td>\n",
       "      <td>Child Survival and Health</td>\n",
       "      <td>Constant 2011 $US</td>\n",
       "      <td>2005.0</td>\n",
       "      <td>40694702</td>\n",
       "    </tr>\n",
       "    <tr>\n",
       "      <th>Economic</th>\n",
       "      <td>Afghanistan</td>\n",
       "      <td>Child Survival and Health</td>\n",
       "      <td>Constant 2011 $US</td>\n",
       "      <td>2006.0</td>\n",
       "      <td>41764055</td>\n",
       "    </tr>\n",
       "  </tbody>\n",
       "</table>\n",
       "</div>"
      ],
      "text/plain": [
       "                Recipient Country               Program Name  \\\n",
       "Assistance Type                                                \n",
       "Economic              Afghanistan  Child Survival and Health   \n",
       "Economic              Afghanistan  Child Survival and Health   \n",
       "Economic              Afghanistan  Child Survival and Health   \n",
       "Economic              Afghanistan  Child Survival and Health   \n",
       "Economic              Afghanistan  Child Survival and Health   \n",
       "\n",
       "                         Unit Name  Fiscal Year  Obligations ($US)  \n",
       "Assistance Type                                                     \n",
       "Economic         Constant 2011 $US       2002.0            2641223  \n",
       "Economic         Constant 2011 $US       2003.0           57720808  \n",
       "Economic         Constant 2011 $US       2004.0           41096541  \n",
       "Economic         Constant 2011 $US       2005.0           40694702  \n",
       "Economic         Constant 2011 $US       2006.0           41764055  "
      ]
     },
     "execution_count": 6,
     "metadata": {},
     "output_type": "execute_result"
    }
   ],
   "source": [
    "USloans.head()"
   ]
  },
  {
   "cell_type": "code",
   "execution_count": 7,
   "metadata": {
    "collapsed": false,
    "deletable": true,
    "editable": true
   },
   "outputs": [
    {
     "data": {
      "text/plain": [
       "array(['Child Survival and Health',\n",
       "       'Department of Defense Security Assistance',\n",
       "       'Development Assistance',\n",
       "       'Economic Support Fund/Security Support Assistance',\n",
       "       'Food For Education', 'Global Health and Child Survival',\n",
       "       'Inactive Programs', 'Migration and Refugee Assistance',\n",
       "       'Narcotics Control',\n",
       "       'Nonproliferation, Anti-Terrorism, Demining and Related',\n",
       "       'Other Active Grant Programs', 'Other Food Aid Programs',\n",
       "       'Other State Assistance', 'Other USAID Assistance',\n",
       "       'Other USDA Assistance', 'Peace Corps', 'Title I', 'Title II',\n",
       "       'Millennium Challenge Corporation', 'Global HIV/AIDS Initiative',\n",
       "       'Voluntary Contributions to Multilateral Organizations, Total',\n",
       "       'Military Assistance, Total'], dtype=object)"
      ]
     },
     "execution_count": 7,
     "metadata": {},
     "output_type": "execute_result"
    }
   ],
   "source": [
    "USloans['Program Name'].unique()"
   ]
  },
  {
   "cell_type": "code",
   "execution_count": 8,
   "metadata": {
    "collapsed": false,
    "deletable": true,
    "editable": true
   },
   "outputs": [],
   "source": [
    "Food_aid = USloans[USloans['Program Name'].str.contains('Food')]"
   ]
  },
  {
   "cell_type": "code",
   "execution_count": 16,
   "metadata": {
    "collapsed": false,
    "deletable": true,
    "editable": true,
    "scrolled": true
   },
   "outputs": [
    {
     "data": {
      "text/html": [
       "<div>\n",
       "<table border=\"1\" class=\"dataframe\">\n",
       "  <thead>\n",
       "    <tr style=\"text-align: right;\">\n",
       "      <th></th>\n",
       "      <th>Recipient Country</th>\n",
       "      <th>Program Name</th>\n",
       "      <th>Unit Name</th>\n",
       "      <th>Fiscal Year</th>\n",
       "      <th>Obligations ($US)</th>\n",
       "    </tr>\n",
       "    <tr>\n",
       "      <th>Assistance Type</th>\n",
       "      <th></th>\n",
       "      <th></th>\n",
       "      <th></th>\n",
       "      <th></th>\n",
       "      <th></th>\n",
       "    </tr>\n",
       "  </thead>\n",
       "  <tbody>\n",
       "    <tr>\n",
       "      <th>Economic</th>\n",
       "      <td>Afghanistan</td>\n",
       "      <td>Food For Education</td>\n",
       "      <td>Constant 2011 $US</td>\n",
       "      <td>2003.0</td>\n",
       "      <td>4042733</td>\n",
       "    </tr>\n",
       "    <tr>\n",
       "      <th>Economic</th>\n",
       "      <td>Afghanistan</td>\n",
       "      <td>Food For Education</td>\n",
       "      <td>Constant 2011 $US</td>\n",
       "      <td>2004.0</td>\n",
       "      <td>2667199</td>\n",
       "    </tr>\n",
       "    <tr>\n",
       "      <th>Economic</th>\n",
       "      <td>Afghanistan</td>\n",
       "      <td>Food For Education</td>\n",
       "      <td>Constant 2011 $US</td>\n",
       "      <td>2005.0</td>\n",
       "      <td>3326066</td>\n",
       "    </tr>\n",
       "    <tr>\n",
       "      <th>Economic</th>\n",
       "      <td>Afghanistan</td>\n",
       "      <td>Food For Education</td>\n",
       "      <td>Constant 2011 $US</td>\n",
       "      <td>2006.0</td>\n",
       "      <td>395486</td>\n",
       "    </tr>\n",
       "    <tr>\n",
       "      <th>Economic</th>\n",
       "      <td>Afghanistan</td>\n",
       "      <td>Food For Education</td>\n",
       "      <td>Historical $US</td>\n",
       "      <td>2003.0</td>\n",
       "      <td>3358043</td>\n",
       "    </tr>\n",
       "  </tbody>\n",
       "</table>\n",
       "</div>"
      ],
      "text/plain": [
       "                Recipient Country        Program Name          Unit Name  \\\n",
       "Assistance Type                                                            \n",
       "Economic              Afghanistan  Food For Education  Constant 2011 $US   \n",
       "Economic              Afghanistan  Food For Education  Constant 2011 $US   \n",
       "Economic              Afghanistan  Food For Education  Constant 2011 $US   \n",
       "Economic              Afghanistan  Food For Education  Constant 2011 $US   \n",
       "Economic              Afghanistan  Food For Education     Historical $US   \n",
       "\n",
       "                 Fiscal Year  Obligations ($US)  \n",
       "Assistance Type                                  \n",
       "Economic              2003.0            4042733  \n",
       "Economic              2004.0            2667199  \n",
       "Economic              2005.0            3326066  \n",
       "Economic              2006.0             395486  \n",
       "Economic              2003.0            3358043  "
      ]
     },
     "execution_count": 16,
     "metadata": {},
     "output_type": "execute_result"
    }
   ],
   "source": [
    "Food_aid.head()"
   ]
  },
  {
   "cell_type": "code",
   "execution_count": 11,
   "metadata": {
    "collapsed": false,
    "deletable": true,
    "editable": true
   },
   "outputs": [],
   "source": [
    "Food_aid.to_csv('../Data/usaid_food_relief_received')"
   ]
  }
 ],
 "metadata": {
  "kernelspec": {
   "display_name": "Python 3",
   "language": "python",
   "name": "python3"
  },
  "language_info": {
   "codemirror_mode": {
    "name": "ipython",
    "version": 3
   },
   "file_extension": ".py",
   "mimetype": "text/x-python",
   "name": "python",
   "nbconvert_exporter": "python",
   "pygments_lexer": "ipython3",
   "version": "3.6.0"
  }
 },
 "nbformat": 4,
 "nbformat_minor": 0
}
